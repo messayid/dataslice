# This R environment comes with many helpful analytics packages installed
# It is defined by the kaggle/rstats Docker image: https://github.com/kaggle/docker-rstats
# For example, here's a helpful package to load

library(tidyverse) # metapackage of all tidyverse packages
library(readr)
library(readxl)
library(writexl)
library(rvest)
library(xml2)
library(stringr)
# Input data files are available in the read-only "../input/" directory
# For example, running this (by clicking run or pressing Shift+Enter) will list all files under the input directory
#detect url and data frame
url <- "https://www.imdb.com/search/title/?title_type=feature&user_rating=1.0,10.0"
movie <- data.frame()

# get data from imdb and save to data frame
for(pnum in seq(from = 1, to = 232401, by = 50)){
 page <- read_html(url)
 title <- page %>% html_nodes(".lister-item-header a") %>% html_text()
 link <-  page %>% html_nodes(".lister-item-header a") %>% html_attr("href") %>%
   paste0("https://www.imdb.com", .)
 year <- page %>% html_nodes(".text-muted.unbold") %>% html_text() %>% str_sub(., -5,-2)
 rating <- page %>% html_nodes(".ratings-imdb-rating strong") %>% html_text()
 genre <- page %>% html_nodes(".genre") %>% html_text()
 runtime_min <- page %>% html_nodes(".runtime") %>% html_text() 
 description <- page %>% html_nodes(".ratings-bar+ .text-muted") %>% html_text()
 votes <- page %>% html_nodes(".text-muted+ span") %>% html_text() %>% str_subset(., "^\\d") %>% gsub(",", "", .)
 cast <- page %>% html_nodes(".text-muted+ p") %>% html_text()
 length(link)<- length(cast)<- length(description)<- length(year)<- length(genre)<- length(runtime_min)<- length(votes)<- length(rating)<- length(title)
 movie <- rbind(movie, data.frame(title, genre, year,rating, votes, runtime_min, cast, description, link))
 nextp <- read_html(url) %>% html_nodes(".next-page") %>% html_attr("href")
 url <- paste0("https://www.imdb.com",nextp[1])
 write_file(url, "url.txt")
 write_xlsx(movie, "movies.xlsx")
 print(paste("page:" ,pnum))
}

#wrangling data
movied <- distinct(movie)
movied <-movied %>% separate(cast, c("directors","actors"), "\\|", fill= "right")
movied$directors <-  gsub(".*:", "",movied$directors ) %>% str_trim()
movied$actors <-  gsub(".*:", "",movied$actors ) %>% str_trim()
movied[, c("year", "rating", "votes")] <- sapply(movied[, c("year", "rating", "votes")], as.numeric)
summary(movied)

#export data to excel
write_xlsx(movied, "231k_imdb_feature_movies.xlsx")


# You can write up to 20GB to the current directory (/kaggle/working/) that gets preserved as output when you create a version using "Save & Run All" 
# You can also write temporary files to /kaggle/temp/, but they won't be saved outside of the current session